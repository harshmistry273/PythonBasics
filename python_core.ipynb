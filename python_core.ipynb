{
 "cells": [
  {
   "cell_type": "markdown",
   "id": "0f20cee0",
   "metadata": {},
   "source": [
    "**Hello**, this is my journey of learning _core concepts_ of **python**. This notebook contains fundamentals and examples which I'm learning. All thanks to _Tech with Tim_ for this amazing tutorial on python: https://www.youtube.com/watch?v=VchuKL44s6E&t=26s&ab_channel=TechWithTim"
   ]
  },
  {
   "cell_type": "markdown",
   "id": "5b3927b7",
   "metadata": {},
   "source": [
    "# Download & Install Python"
   ]
  },
  {
   "cell_type": "markdown",
   "id": "f0be4056",
   "metadata": {},
   "source": [
    "1. Go to https://www.python.org/downloads/ and download the most recent version of python.\n",
    "2. Begin with the installation and don't forget to check the *ADD PYTHON TO PATH* checkbox.\n",
    "\n",
    "Python also comes with a built in environment to write code in called **IDLE**.\n",
    "\n",
    "You can use VS code and add Python extension. //"
   ]
  },
  {
   "cell_type": "markdown",
   "id": "1df55a50",
   "metadata": {},
   "source": [
    "# What is Python\n",
    "\n",
    "Python is a general purpose programming language which is also a high level progamming language. Python is easy to learn & versatile. It simple to read and write code in Python. Python also supports multiple paradigm of programming which is procedural, functional and object oriented programming. Python is mostly used in AI, ML, Web development and Data science oriented tasks."
   ]
  },
  {
   "cell_type": "markdown",
   "id": "e83b011f",
   "metadata": {},
   "source": [
    "# Data types in python\n",
    "\n",
    "**Data types** defines the kind of data a variable can hold and how the computer interprets that data.\n",
    "\n",
    "There are 4 core types of data types: \n",
    "\n",
    "- int\n",
    "- float\n",
    "- str\n",
    "- bool\n",
    "\n",
    "1. int - Typically stands for integers holds whole numbers and does not have a decimal point on it.\n",
    "2. float - Values which contains decimal points on it\n",
    "3. str - Anything surrounded by \"\" or '' quoatation marks. Strings are typically sequence of characters or numbers.\n",
    "4. bool - One of two values i.e True or False or 0 or 1"
   ]
  },
  {
   "cell_type": "code",
   "execution_count": null,
   "id": "f24ded7e",
   "metadata": {},
   "outputs": [],
   "source": [
    "# Examples\n",
    "\n",
    "# int\n",
    "23, 453, -90\n",
    "\n",
    "# float\n",
    "2.3, -0.4, 2.0\n",
    "\n",
    "# str\n",
    "\"Hi\", 'Hi', \"0.4\" # enclosed in \"\"\n",
    "\"'Hi'\" # embeds single quotation marks in the actual string. We can also do the same with double quotation marks with single single quotation marks.\n",
    "\n",
    "# bool\n",
    "True, False, 0, 1\n"
   ]
  },
  {
   "cell_type": "markdown",
   "id": "7afd567f",
   "metadata": {},
   "source": [
    "# Output and printing\n",
    "\n",
    "Python comes with an inbuilt function called **print()** to show some output on console when you run your program.\n",
    "\n",
    "We can pass multiple arguments in print function like _end_ (which denotes what should be at the) and _sep_ (what denotes what should the values seperated by). By default _end_ contains a carriage return which is a new line and _sep_ contains a space."
   ]
  },
  {
   "cell_type": "code",
   "execution_count": null,
   "id": "abef8195",
   "metadata": {},
   "outputs": [
    {
     "name": "stdout",
     "output_type": "stream",
     "text": [
      "Hello World!\n",
      "4.5 Hello False 9\n",
      "Hi&\n",
      "1-2-3-4\n"
     ]
    }
   ],
   "source": [
    "# Examples\n",
    "\n",
    "\n",
    "print(\"Hello World!\")\n",
    "\n",
    "# print(Hello World!) this is not valid as the string in not enclosed in string and the machine does not know how to interpret this.\n",
    "\n",
    "print(4.5, \"Hello\", False, 9) # To show multiple output with space between them\n",
    "\n",
    "print(\"Hi\",end=\"&\")\n",
    "print() # empty print creates a new line due to end\n",
    "print(1,2,3,4, sep=\"-\")"
   ]
  },
  {
   "cell_type": "markdown",
   "id": "5c125ef0",
   "metadata": {},
   "source": [
    "# Variables\n",
    "\n",
    "A **Variable** is a named storage location in memory that can hold a value. ( A bucket which stores some data or a type)\n",
    "\n",
    "Naming Conventions\n",
    "\n",
    "- No special characters allowed\n",
    "- Cannot start a variable name with number\n",
    "- Name cannot conatain spaces\n",
    "\n",
    "Examples:\n",
    "\n",
    "hello_world\n",
    "helloWorld\n",
    "hello_world_1\n",
    "\n",
    "Invalid names:\n",
    "\n",
    "9Hello\n",
    "hello world\n",
    "\n",
    "Python generally follows snake case naming convention which denotes spaces as underscores."
   ]
  },
  {
   "cell_type": "code",
   "execution_count": null,
   "id": "999e9d27",
   "metadata": {},
   "outputs": [
    {
     "name": "stdout",
     "output_type": "stream",
     "text": [
      "Hello\n",
      "2 1\n"
     ]
    }
   ],
   "source": [
    "# Examples\n",
    "\n",
    "var1 = \"Hello\" # var1 is a variable which stores a string Hello\n",
    "\n",
    "print(var1)\n",
    "\n",
    "a = 1 # a references 1\n",
    "b = a # b references 1\n",
    "a = 2 # a refereces new value 2\n",
    "\n",
    "print(a, b) # 2, 1"
   ]
  },
  {
   "cell_type": "markdown",
   "id": "42623f2b",
   "metadata": {},
   "source": [
    "# Input in python\n",
    "\n",
    "The _input_ function in python takes some user given value which is always a string."
   ]
  },
  {
   "cell_type": "code",
   "execution_count": 6,
   "id": "e763b287",
   "metadata": {},
   "outputs": [],
   "source": [
    "# Example\n",
    "\n",
    "var1 = input(\"Type a number: \")"
   ]
  },
  {
   "cell_type": "markdown",
   "id": "3ec08915",
   "metadata": {},
   "source": [
    "# Arithmetic operators\n",
    "\n",
    "These operations are used with some numeric values to perform mathematical operations.\n",
    "\n",
    "We must make sure that the data types we use with the operands must be numeric or of same types.\n",
    "\n",
    "For eg. 'hello' + 9 is not valid as we're adding numeric value 9 to a string.\n",
    "\n",
    "Python follows B(rackets)E(xponential)D(ivision)M(ultiplication)A(ddition)S(ubstraction) to evaluate operations.\n",
    "\n",
    "If any operand is float the end result will be in a float only."
   ]
  },
  {
   "cell_type": "code",
   "execution_count": 18,
   "id": "5a7655d1",
   "metadata": {},
   "outputs": [
    {
     "name": "stdout",
     "output_type": "stream",
     "text": [
      "13\n",
      "7\n",
      "30\n",
      "3.3333333333333335\n",
      "1000\n",
      "3\n",
      "1\n",
      "\n",
      "7\n",
      "9\n"
     ]
    }
   ],
   "source": [
    "# Examples\n",
    "\n",
    "x = 10\n",
    "y = 3\n",
    "\n",
    "print(x + y) # Addtion operator\n",
    "print(x - y) # Substractions operator\n",
    "print(x * y) # Multiplications opearor\n",
    "print(x / y) # Division operator (returns float)\n",
    "print(x ** y) # Exponential operator\n",
    "print(x // y) # Floor division operator\n",
    "print(x % y) # Mod operator (return remainder)\n",
    "print()\n",
    "print(1 + 2 * 3)\n",
    "print((1 + 2 ) * 3)\n"
   ]
  },
  {
   "cell_type": "markdown",
   "id": "c477dc7a",
   "metadata": {},
   "source": [
    "# String methods\n",
    "\n",
    "A _method_ is something with a .(dot) and method_name which are functions that are associated with an object or a class.\n",
    "\n",
    ".upper() - Converts the entire string in uppercase\n",
    ".lower() - Converts the entire string in lowercase\n",
    ".capatilize - Converts the first character of the string in uppercase"
   ]
  },
  {
   "cell_type": "code",
   "execution_count": 29,
   "id": "0f7a8868",
   "metadata": {},
   "outputs": [
    {
     "name": "stdout",
     "output_type": "stream",
     "text": [
      "<class 'str'>\n",
      "HELLO\n",
      "hello\n",
      "Hello\n",
      "0\n",
      "1\n",
      "\n",
      "hello hello hello \n",
      "hello 3\n"
     ]
    }
   ],
   "source": [
    "# Examples\n",
    "\n",
    "print(type(\"value\"))\n",
    "\n",
    "print(\"hello\".upper())\n",
    "print(\"heLLo\".lower())\n",
    "print(\"hello\".capitalize())\n",
    "print(\"heLLo\".count(\"ll\"))\n",
    "print(\"heLLo\".lower().count(\"ll\"))\n",
    "print()\n",
    "print(\"hello \" * 3)\n",
    "print(\"hello \" + \"3\")"
   ]
  },
  {
   "cell_type": "markdown",
   "id": "4c1a1611",
   "metadata": {},
   "source": [
    "# Conditions and Conditional operators\n",
    "\n",
    "Condition operators are used to evaluate conditions that result in a Boolean value (True or False)\n",
    "\n",
    "== - Equal to\n",
    "!= - Not equal to\n",
    "<= - Less than equal to\n",
    "=> - Greater than equal to\n",
    "> - Greater than\n",
    "< - Less than\n",
    "\n",
    "Conditional operators have less precedence than arithmetic operators.\n",
    "\n",
    "# Logical\n",
    "\n",
    "and: If both conditions are True gives True else False\n",
    "or: If any conditions are True gives True if both False then False\n",
    "not: Converts True into False and False into True\n",
    "\n",
    "not has the highest priority."
   ]
  },
  {
   "cell_type": "code",
   "execution_count": null,
   "id": "8118b4fe",
   "metadata": {},
   "outputs": [
    {
     "name": "stdout",
     "output_type": "stream",
     "text": [
      "False\n",
      "True\n",
      "False\n",
      "True\n",
      "False\n",
      "True\n",
      "\n",
      "209 145\n",
      "True\n",
      "False\n",
      "\n",
      "False\n",
      "True\n",
      "False\n",
      "True\n"
     ]
    }
   ],
   "source": [
    "# Examples\n",
    "\n",
    "x = 10\n",
    "y = 9\n",
    "\n",
    "print(x == y)\n",
    "print(x != y)\n",
    "print(x <= y)\n",
    "print(x >= y)\n",
    "print(x < y)\n",
    "print(x > y)\n",
    "print()\n",
    "a = \"h\"\n",
    "b = \"H\"\n",
    "\n",
    "# ord() : gives ASCII value of a character\n",
    "print(ord('h') + ord('i'), ord('H') + ord('I'))\n",
    "print(a > b)\n",
    "\n",
    "print(\"ABC\" == \"ABD\")\n",
    "# Checks 1st char from both and moves forward\n",
    "\n",
    "print()\n",
    "print(x == y and y != x)\n",
    "print(x == y or y != x)\n",
    "print(x == y or not y != x)\n",
    "print(x == y or y != x and x > y)\n",
    "\n",
    "\n"
   ]
  },
  {
   "cell_type": "markdown",
   "id": "ebbcb4a8",
   "metadata": {},
   "source": [
    "# If...Elif...Else\n",
    "\n",
    "If...Else is a control flow structure that allows your code to execute different blocks of code based on whether a condition is true or false\n",
    "\n",
    "Syntax:\n",
    "if condition:\n",
    "    ...\n",
    "elif condition:\n",
    "    ...\n",
    "else:\n",
    "    ...\n",
    "\n",
    "elif can be used multiple times but must be after if and before else and there must be if conditon before elif."
   ]
  },
  {
   "cell_type": "code",
   "execution_count": null,
   "id": "87012a3d",
   "metadata": {},
   "outputs": [
    {
     "name": "stdout",
     "output_type": "stream",
     "text": [
      "More than 50 \n"
     ]
    }
   ],
   "source": [
    "# Example\n",
    "\n",
    "x = int(input(\"Enter your age: \"))\n",
    "\n",
    "if x < 20:\n",
    "    print(\"Less than 20\")\n",
    "elif x < 50:\n",
    "    print(\"Less than 50\")\n",
    "else:\n",
    "    print(\"More than 50 \")"
   ]
  },
  {
   "cell_type": "markdown",
   "id": "27de76c1",
   "metadata": {},
   "source": [
    "# Collections\n",
    "\n",
    "A collection is an ordered or unordered group of elements (som datatypes).\n",
    "\n",
    "[] - A list is an ordered and mutable collection of values of different data types.\n",
    "\n",
    "Each value is represented with an index number which starts from 0.\n",
    "\n",
    "List methods:\n",
    "\n",
    "len() - Gives the length of the list or string\n",
    "append() - Adds an element at the end of th list\n",
    "extend() - Extends the list with another list\n",
    "pop() - Removes and return the last element of the list\n",
    "\n",
    "() - A tuple is an ordered immutable collection of values ofdifferent types. (Immutable list)\n",
    "\n",
    "a = ()\n",
    "\n"
   ]
  },
  {
   "cell_type": "code",
   "execution_count": null,
   "id": "060b15b9",
   "metadata": {},
   "outputs": [
    {
     "name": "stdout",
     "output_type": "stream",
     "text": [
      "[1, 2.0, 'Hey', False]\n",
      "4\n",
      "[1, 2.0, 'Hey', False, 'New_Element']\n",
      "[1, 2.0, 'Hey', False, 'New_Element', 1, 2, 3]\n",
      "3\n",
      "[1, 2.0, 'Hey', False, 'New_Element', 1, 2]\n",
      "Hey\n",
      "[1, 2.0, False, 'New_Element', 1, 2]\n",
      "\n",
      "@### ['@###', 2.0, False, 'New_Element', 1, 2]\n",
      "['@###', 2.0, False, 'New_Element', 1, 2, 'We are same'] ['@###', 2.0, False, 'New_Element', 1, 2, 'We are same']\n",
      "['@###', 2.0, False, 'New_Element', 1, 2, 'We are same'] ['@###', 2.0, False, 'New_Element', 1, 2, 'We are same', 'We are not same']\n"
     ]
    },
    {
     "data": {
      "text/plain": [
       "tuple"
      ]
     },
     "execution_count": 88,
     "metadata": {},
     "output_type": "execute_result"
    },
    {
     "ename": "",
     "evalue": "",
     "output_type": "error",
     "traceback": [
      "\u001b[1;31mThe Kernel crashed while executing code in the current cell or a previous cell. \n",
      "\u001b[1;31mPlease review the code in the cell(s) to identify a possible cause of the failure. \n",
      "\u001b[1;31mClick <a href='https://aka.ms/vscodeJupyterKernelCrash'>here</a> for more info. \n",
      "\u001b[1;31mView Jupyter <a href='command:jupyter.viewOutput'>log</a> for further details."
     ]
    }
   ],
   "source": [
    "# Examples\n",
    "\n",
    "# List\n",
    "\n",
    "x = [1, 2.0, \"Hey\", False]\n",
    "print(x)\n",
    "print(len(x))\n",
    "x.append(\"New_Element\")\n",
    "print(x)\n",
    "x.extend([1, 2, 3])\n",
    "print(x)\n",
    "print(x.pop())\n",
    "print(x)\n",
    "print(x.pop(2)) # Removes Hey\n",
    "print(x)\n",
    "print()\n",
    "x[0] = \"@###\"\n",
    "print(x[0], x)\n",
    "y = x # y references the same list object as x  \n",
    "y.append(\"We are same\")\n",
    "\n",
    "print(x, y)\n",
    "\n",
    "y = x[:] # Creates a new list with copied values \n",
    "y.append(\"We are not same\")\n",
    "\n",
    "print(x, y)"
   ]
  },
  {
   "cell_type": "code",
   "execution_count": null,
   "id": "2c7a521c",
   "metadata": {},
   "outputs": [],
   "source": [
    "# Tuple\n",
    "\n",
    "a = (1, 2, 3, 4)\n",
    "\n",
    "# a[0] = 2 Invalid as tuples are immutable"
   ]
  },
  {
   "cell_type": "markdown",
   "id": "af45250b",
   "metadata": {},
   "source": [
    "# Loops\n",
    "\n",
    "Loops in Python are control flow statements used to execute a block of code repeatedly.\n",
    "\n",
    "For loop: When number of iterations are known\n",
    "WHile Loop: Loop until a certai condition is true."
   ]
  },
  {
   "cell_type": "code",
   "execution_count": 8,
   "id": "496ac3a2",
   "metadata": {},
   "outputs": [
    {
     "name": "stdout",
     "output_type": "stream",
     "text": [
      "-10 -9 -8 -7 -6 -5 -4 -3 -2 \n",
      "1\n",
      "2\n",
      "3\n",
      "\n",
      "1\n",
      "2\n",
      "3\n",
      "\n",
      "0 1\n",
      "1 2\n",
      "2 3\n"
     ]
    }
   ],
   "source": [
    "# Examples\n",
    "\n",
    "for i in range(-10, -1, 1):\n",
    "    print(i, end=\" \")\n",
    "print()\n",
    "for i in [1, 2, 3]:\n",
    "    print(i)\n",
    "print()\n",
    "x = [1,2,3]\n",
    "for i in range(len(x)):\n",
    "    print(x[i])\n",
    "print()\n",
    "for i,v in enumerate(x):\n",
    "    print(i, v)"
   ]
  },
  {
   "cell_type": "code",
   "execution_count": 15,
   "id": "42fbdda8",
   "metadata": {},
   "outputs": [
    {
     "name": "stdout",
     "output_type": "stream",
     "text": [
      "0\n",
      "2\n",
      "4\n",
      "6\n",
      "8\n",
      "\n",
      "2\n",
      "4\n",
      "6\n",
      "8\n"
     ]
    }
   ],
   "source": [
    "# Examples\n",
    "\n",
    "i = 0\n",
    "while i < 10:\n",
    "    print(i)\n",
    "    i+=2\n",
    "print()\n",
    "i = 0\n",
    "while True:\n",
    "    if i == 8:\n",
    "        break\n",
    "    i += 2\n",
    "    print(i)"
   ]
  },
  {
   "cell_type": "markdown",
   "id": "b3e21693",
   "metadata": {},
   "source": [
    "# Slice operator\n",
    "\n",
    "Gives a slice of a collection or a string.\n",
    "\n",
    "[start:stop:step]\n"
   ]
  },
  {
   "cell_type": "code",
   "execution_count": 32,
   "id": "9d6c4dc5",
   "metadata": {},
   "outputs": [
    {
     "name": "stdout",
     "output_type": "stream",
     "text": [
      "[1, 2, 3, 4, 5, 6, 7, 8, 9, 10]\n",
      "[1, 3, 5, 7, 9]\n",
      "[5, 3, 1]\n",
      "[5, 4]\n",
      "[10, 9, 8, 7, 6, 5, 4, 3, 2, 1]\n",
      "(1, 3, 5, 7, 9)\n"
     ]
    }
   ],
   "source": [
    "# Examples\n",
    "\n",
    "x = [1,2,3,4,5,6,7,8,9,10]\n",
    "\n",
    "print(x[0:]) # starts from 0 and ends at the last element\n",
    "print(x[0::2]) # starts frm 0 and end at the last element with 2 steps\n",
    "print(x[4::-2]) # starts from 4 and goes negative two steps i.e 5, 3, 1\n",
    "print(x[4:2:-1])\n",
    "print(x[::-1]) # reverses\n",
    "\n",
    "y = tuple(x)\n",
    "\n",
    "print(y[::2])\n"
   ]
  },
  {
   "cell_type": "markdown",
   "id": "48cd2b47",
   "metadata": {},
   "source": [
    "# Sets\n",
    "\n",
    "{} - A set is an unordered collection of elements (used for removal and additions)\n",
    "\n",
    "\n",
    ".add(element) - adds an element\n",
    ".remove(element) - removes an element"
   ]
  },
  {
   "cell_type": "code",
   "execution_count": 44,
   "id": "aa107f69",
   "metadata": {},
   "outputs": [
    {
     "name": "stdout",
     "output_type": "stream",
     "text": [
      "set()\n",
      "{1}\n",
      "set()\n",
      "False\n",
      "{1, 2, 3, 4}\n",
      "{2}\n",
      "{1, 3}\n",
      "{2, 4}\n"
     ]
    }
   ],
   "source": [
    "# Examples\n",
    "\n",
    "x = set()\n",
    "# x = {} creates a dictonary\n",
    "\n",
    "print(x)\n",
    "x.add(1)\n",
    "print(x)\n",
    "x.remove(1)\n",
    "print(x)\n",
    "\n",
    "print(1 in x)\n",
    "\n",
    "a = {1,2,3}\n",
    "b = {1,3,4}\n",
    "\n",
    "print(a.union(b))\n",
    "print(a.difference(b))\n",
    "print(a.intersection(b))\n",
    "print(a.symmetric_difference(b))"
   ]
  },
  {
   "cell_type": "markdown",
   "id": "1bdbd9ee",
   "metadata": {},
   "source": [
    "# Dictonaries\n",
    "\n",
    "{} - A collection of key-value pairs\n",
    "\n",
    "{\n",
    "    \"key\": \"value\"\n",
    "}\n",
    "\n",
    "key can be of different data types"
   ]
  },
  {
   "cell_type": "code",
   "execution_count": 54,
   "id": "24794f6b",
   "metadata": {},
   "outputs": [
    {
     "name": "stdout",
     "output_type": "stream",
     "text": [
      "{'age': 20, 'name': 'Abc'}\n",
      "True\n",
      "dict_values([20, 'Abc'])\n",
      "dict_keys(['age', 'name'])\n",
      "dict_items([('age', 20), ('name', 'Abc')])\n",
      "{'age': 20}\n",
      "age 20\n",
      "age 20\n"
     ]
    }
   ],
   "source": [
    "# Example\n",
    "\n",
    "x = {\"age\": 20}\n",
    "\n",
    "x[\"name\"] = \"Abc\" # adds a key\n",
    "print(x)\n",
    "\n",
    "print(\"name\" in x)\n",
    "\n",
    "print(x.values())\n",
    "print(x.keys())\n",
    "print(x.items())\n",
    "\n",
    "del x[\"name\"]\n",
    "print(x)\n",
    "\n",
    "for k,v in x.items():\n",
    "    print(k, v)\n",
    "\n",
    "for k in x:\n",
    "    print(k, x[k])"
   ]
  },
  {
   "cell_type": "markdown",
   "id": "246a171a",
   "metadata": {},
   "source": [
    "# Comprehensions\n",
    "\n",
    "One line initializtion of list, tuples, dict, sets."
   ]
  },
  {
   "cell_type": "code",
   "execution_count": 120,
   "id": "27c56c98",
   "metadata": {},
   "outputs": [
    {
     "name": "stdout",
     "output_type": "stream",
     "text": [
      "[1, 2, 3, 4, 5, 6, 7, 8, 9]\n",
      "[[0, 1, 2, 3, 4], [0, 1, 2, 3, 4]]\n",
      "{0, 1, 2, 3, 4, 5, 6, 7, 8, 9}\n",
      "(0, 1, 2, 3, 4, 5, 6, 7, 8, 9)\n",
      "{1: {1: 1, 2: 2, 3: 3, 4: 4, 5: 5, 6: 6, 7: 7, 8: 8, 9: 9, 10: 10}, 2: {1: 2, 2: 4, 3: 6, 4: 8, 5: 10, 6: 12, 7: 14, 8: 16, 9: 18, 10: 20}}\n"
     ]
    }
   ],
   "source": [
    "# Examples\n",
    "\n",
    "x = [i for i in range(1,10)]\n",
    "print(x)\n",
    "\n",
    "y = [[i for i in range(0,5)] for x in range(2)]\n",
    "print(y)\n",
    "\n",
    "x = {i for i in range(0,10)}\n",
    "print(x)\n",
    "\n",
    "y = tuple(i for i in range(0,10))\n",
    "print(y)\n",
    "\n",
    "z = {i:{t:t*i for t in range(1,11)} for i in range(1, 3)}\n",
    "print(z)\n"
   ]
  },
  {
   "cell_type": "markdown",
   "id": "16c1319e",
   "metadata": {},
   "source": [
    "# Function\n",
    "\n",
    "A function is a block of code which only runs when it is called. You can pass data, known as parameters, into a function.\n",
    ". Functions are treated as objects in python."
   ]
  },
  {
   "cell_type": "code",
   "execution_count": null,
   "id": "37d5a671",
   "metadata": {},
   "outputs": [
    {
     "name": "stdout",
     "output_type": "stream",
     "text": [
      "3\n",
      "5\n",
      "5 added\n",
      "Hello A\n",
      "Hello None\n",
      "3\n",
      "9\n"
     ]
    },
    {
     "ename": "",
     "evalue": "",
     "output_type": "error",
     "traceback": [
      "\u001b[1;31mThe Kernel crashed while executing code in the current cell or a previous cell. \n",
      "\u001b[1;31mPlease review the code in the cell(s) to identify a possible cause of the failure. \n",
      "\u001b[1;31mClick <a href='https://aka.ms/vscodeJupyterKernelCrash'>here</a> for more info. \n",
      "\u001b[1;31mView Jupyter <a href='command:jupyter.viewOutput'>log</a> for further details."
     ]
    }
   ],
   "source": [
    "# Examples\n",
    "\n",
    "def addn():\n",
    "    print(1 + 2)\n",
    "    def addn():\n",
    "        return(2+3, \"added\")\n",
    "    print(addn()[0])\n",
    "    r1, r2 = addn()\n",
    "    print(r1, r2)\n",
    "\n",
    "addn()\n",
    "\n",
    "def say_hello(name=None):\n",
    "    print(\"Hello\", name)\n",
    "\n",
    "say_hello(\"A\")\n",
    "say_hello()\n",
    "\n",
    "\n",
    "def funca(x):\n",
    "    def funcb():\n",
    "        print(x)\n",
    "    return funcb\n",
    "\n",
    "funca(3)()\n",
    "\n",
    "x = funca(9)\n",
    "x()"
   ]
  },
  {
   "cell_type": "markdown",
   "id": "70ff93f9",
   "metadata": {},
   "source": [
    "# Unpacking\n",
    "\n",
    "The unpack operator seperate all of the elements from a collection into indivudial elements."
   ]
  },
  {
   "cell_type": "code",
   "execution_count": null,
   "id": "02bbb022",
   "metadata": {},
   "outputs": [
    {
     "name": "stdout",
     "output_type": "stream",
     "text": [
      "[1, 2, 3]\n",
      "1 2 3\n",
      "2 4\n"
     ]
    }
   ],
   "source": [
    "# Example\n",
    "\n",
    "x = [1, 2, 3]\n",
    "print(x)\n",
    "print(*x)\n",
    "\n",
    "def func(x, y):\n",
    "    print(x, y)\n",
    "\n",
    "func(**{\"y\": 4, \"x\": \"2\",})\n",
    "\n",
    "def func1(*args, **kwargs):\n",
    "    print(args, kwargs)"
   ]
  }
 ],
 "metadata": {
  "kernelspec": {
   "display_name": "Python 3",
   "language": "python",
   "name": "python3"
  },
  "language_info": {
   "codemirror_mode": {
    "name": "ipython",
    "version": 3
   },
   "file_extension": ".py",
   "mimetype": "text/x-python",
   "name": "python",
   "nbconvert_exporter": "python",
   "pygments_lexer": "ipython3",
   "version": "3.12.4"
  }
 },
 "nbformat": 4,
 "nbformat_minor": 5
}
